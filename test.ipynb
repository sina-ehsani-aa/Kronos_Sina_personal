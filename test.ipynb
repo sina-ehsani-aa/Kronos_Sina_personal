{
 "cells": [
  {
   "cell_type": "code",
   "execution_count": 2,
   "id": "77679868-24fa-4ad7-8bb3-d2dadfa3146b",
   "metadata": {},
   "outputs": [],
   "source": [
    "# from murph import encrypt\n",
    "# encrypt()"
   ]
  },
  {
   "cell_type": "code",
   "execution_count": 1,
   "id": "53568b41-e6fd-4f4d-ba42-6d2bc6fbce25",
   "metadata": {},
   "outputs": [
    {
     "name": "stderr",
     "output_type": "stream",
     "text": [
      "C:\\Users\\250318\\Anaconda3\\envs\\sina-env-conda\\lib\\site-packages\\pandas\\io\\sql.py:762: UserWarning: pandas only support SQLAlchemy connectable(engine/connection) ordatabase string URI or sqlite3 DBAPI2 connectionother DBAPI2 objects are not tested, please consider using SQLAlchemy\n",
      "  warnings.warn(\n",
      "C:\\Users\\250318\\Anaconda3\\envs\\sina-env-conda\\lib\\site-packages\\pandas\\io\\sql.py:762: UserWarning: pandas only support SQLAlchemy connectable(engine/connection) ordatabase string URI or sqlite3 DBAPI2 connectionother DBAPI2 objects are not tested, please consider using SQLAlchemy\n",
      "  warnings.warn(\n"
     ]
    },
    {
     "name": "stdout",
     "output_type": "stream",
     "text": [
      "Empty DataFrame\n",
      "Columns: [PNR_LOCATOR_CODE_S, AIRLINE_CODE_S, FLT_ID_I, FLT_DPTR_DATE_D, FLT_DPTR_TMS, SNAPSHOT_DATE_D, FLT_NBR_I, PNR_CREATION_DATE_D, CABIN_CODE_C, SABRE_DPTR_DATETIME_D, MKT_FLT_NBR_I, MKT_AIRLINE_CODE_S, DCR_OD_ORIG_S, DCR_OD_DEST_S, LEG_ORIG_S, LEG_DEST_S, OFL_OD_ORIG_S, OFL_OD_DEST_S, DCR_OD_FLT_DPTR_DATE_D, SERVICE_CLASS_C, GROUP_IND_C, RES_HOLD_I, DCR_CABIN_CODE_C, DCR_STATUS_I, CODESHARE_IND_C, CODESHARE_ITIN_IND_C, BOOKED_DATE_D, DEMAND_DATE_D, PAX_CT_I, LCL_FLW_TYPE_IND_C, EVT_LCL_FLW_TYPE_IND_C, EVT_SERVICE_CLASS_S, CANCEL_PROB_F, OD_FARE_F, EVT_OD_FARE_F, FCST_CLS, FCST_PERIOD, LCL_EBP_F, FLOW_EBP_F, FLOW_EBP_OT_LEG1_F, FLOW_EBP_OT_LEG2_F, POS_CNTRY_CD_S, NR_VALUE_F, LOWEST_OPEN_SERVICE_CLASS_C, LOWEST_OPEN_FCST_CLS_C, LOWEST_OPEN_PRICING_CLASS_C, PNR_UPDATE_TMS, DCR_UPDATE_TMS, SERVICE_CLASS_TMS, TRAFFIC_CT, DCR_SERVICE_CLASS_C, FARE_GROUP_CD, FARE_GROUP_SUBSET_CD, MOD_FARE_BASE_CD, BEST_TKT_DESGNTR_CD, RBK_OD_AVG_FARE, RBK_LEG_AVG_FARE, TKT_IND, RBK_MATCH_IND, PNR_CREATION_DATETIME_D, BKG_SRC_CD, CART_NBR, BEST_TRAVEL_AGY_OUTLET_ID, LYLTY_LEVEL_CD, AADV_CC_HOLDER, POS_IND, EVT_LEG_FARE, AADV_MILES, AADV_COPAY, EVT_LOWEST_PRICING_CLS, TRAFFIC_CT_AADV, OD_AWD_MILE_BURN_QTY, OD_AWD_MILE_BURN_REV_AMT, LEG_AWD_MILE_BURN_QTY, LEG_AWD_MILE_BURN_REV_AMT, INTERLINE_ITIN_IND_C, FARE_BRAND_CD]\n",
      "Index: []\n",
      "\n",
      "[0 rows x 77 columns]\n",
      "  calendar_date  day_of_week  day_of_month  day_of_year  day_of_calendar  \\\n",
      "0    2027-02-08            2             8           39            46425   \n",
      "1    1918-06-26            4            26          177             6751   \n",
      "2    2040-10-21            1            21          295            51429   \n",
      "3    1930-10-18            7            18          291            11248   \n",
      "4    2085-10-29            2            29          302            67873   \n",
      "5    1968-04-30            3            30          121            24957   \n",
      "6    2015-08-11            3            11          223            42226   \n",
      "7    2060-08-02            2             2          215            58654   \n",
      "8    2091-02-09            6             9           40            69802   \n",
      "9    2084-01-22            7            22           22            67227   \n",
      "\n",
      "   weekday_of_month  week_of_month  week_of_year  week_of_calendar  \\\n",
      "0                 2              1             6              6632   \n",
      "1                 4              4            25               964   \n",
      "2                 3              3            43              7347   \n",
      "3                 3              2            41              1606   \n",
      "4                 5              4            43              9696   \n",
      "5                 5              4            17              3565   \n",
      "6                 2              2            32              6032   \n",
      "7                 1              1            31              8379   \n",
      "8                 2              1             5              9971   \n",
      "9                 4              3             3              9603   \n",
      "\n",
      "   month_of_quarter  month_of_year  month_of_calendar  quarter_of_year  \\\n",
      "0                 2              2               1526                1   \n",
      "1                 3              6                222                2   \n",
      "2                 1             10               1690                4   \n",
      "3                 1             10                370                4   \n",
      "4                 1             10               2230                4   \n",
      "5                 1              4                820                2   \n",
      "6                 2              8               1388                3   \n",
      "7                 2              8               1928                3   \n",
      "8                 2              2               2294                1   \n",
      "9                 1              1               2209                1   \n",
      "\n",
      "   quarter_of_calendar  year_of_calendar  \n",
      "0                  509              2027  \n",
      "1                   74              1918  \n",
      "2                  564              2040  \n",
      "3                  124              1930  \n",
      "4                  744              2085  \n",
      "5                  274              1968  \n",
      "6                  463              2015  \n",
      "7                  643              2060  \n",
      "8                  765              2091  \n",
      "9                  737              2084  \n"
     ]
    }
   ],
   "source": [
    "# library imports\n",
    "import pandas as pd\n",
    "# rmor imports\n",
    "from config import herccrt, mosaic, impala\n",
    "# or else import them all: from config import *\n",
    "\n",
    "hcrt = herccrt().con()\n",
    "mos = mosaic().con()\n",
    "\n",
    "df_herccrt = pd.read_sql(\"select * from fcst_curr_pnr where leg_orig_s = 'FRA'\", con=hcrt)\n",
    "print(df_herccrt.head(10))\n",
    "\n",
    "df_mosaic = pd.read_sql(\"select top 10 * from sys_calendar.calendar\", con=mos)\n",
    "print(df_mosaic)\n",
    "\n",
    "hcrt.close()\n",
    "mos.close()\n",
    "\n",
    "# or using a cursor (same syntax for all connections)\n",
    "cursor = herccrt().query(\"select * from fcst_curr_pnr where leg_orig_s = 'FRA'\")"
   ]
  },
  {
   "cell_type": "code",
   "execution_count": null,
   "id": "5460e800-9d27-466f-90af-581a8147c0e1",
   "metadata": {},
   "outputs": [],
   "source": []
  }
 ],
 "metadata": {
  "kernelspec": {
   "display_name": "Python 3 (ipykernel)",
   "language": "python",
   "name": "python3"
  },
  "language_info": {
   "codemirror_mode": {
    "name": "ipython",
    "version": 3
   },
   "file_extension": ".py",
   "mimetype": "text/x-python",
   "name": "python",
   "nbconvert_exporter": "python",
   "pygments_lexer": "ipython3",
   "version": "3.9.13"
  }
 },
 "nbformat": 4,
 "nbformat_minor": 5
}
